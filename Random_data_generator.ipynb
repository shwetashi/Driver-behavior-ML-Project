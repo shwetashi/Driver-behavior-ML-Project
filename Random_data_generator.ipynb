{
 "cells": [
  {
   "cell_type": "code",
   "execution_count": 1,
   "id": "ac8efc64",
   "metadata": {},
   "outputs": [],
   "source": [
    "import numpy as np\n",
    "import pandas as pd\n",
    "import random"
   ]
  },
  {
   "cell_type": "code",
   "execution_count": 2,
   "id": "b834f855",
   "metadata": {},
   "outputs": [
    {
     "name": "stdout",
     "output_type": "stream",
     "text": [
      "       AccX      AccY       AccZ     GyroX     GyroY       GyroZ  Target\n",
      "0  0.116025 -4.469176   9.933935  0.053891 -0.079690  144.899836       2\n",
      "1  4.437712  0.678120   9.860309  0.041278  0.075897   -0.124778       1\n",
      "2  4.398293 -0.109836   9.489867  0.062567 -0.073037    0.011352       1\n",
      "3 -4.354516  0.284884  10.009911  0.054360 -0.062377    0.098177       4\n",
      "4  0.027862  4.935678   9.692048 -0.007443 -0.042019 -150.164229       3\n"
     ]
    }
   ],
   "source": [
    "import numpy as np\n",
    "import pandas as pd\n",
    "\n",
    "np.random.seed(42)\n",
    "\n",
    "def generate_behavior_samples(behavior, n_samples):\n",
    "    \"\"\"\n",
    "    Simulate sensor data for a specific driver behavior.\n",
    "    \"\"\"\n",
    "    if behavior == 1:  # Sudden Acceleration\n",
    "        acc_x = np.random.normal(loc=5, scale=1, size=n_samples)\n",
    "        acc_y = np.random.normal(loc=0, scale=0.5, size=n_samples)\n",
    "        acc_z = np.random.normal(loc=9.8, scale=0.2, size=n_samples)\n",
    "        gyro_x = np.random.normal(loc=0, scale=0.1, size=n_samples)\n",
    "        gyro_y = np.random.normal(loc=0, scale=0.1, size=n_samples)\n",
    "        gyro_z = np.random.normal(loc=0, scale=0.1, size=n_samples)\n",
    "        \n",
    "    elif behavior == 2:  # Sudden Right Turn\n",
    "        acc_x = np.random.normal(loc=0, scale=0.5, size=n_samples)\n",
    "        acc_y = np.random.normal(loc=-4, scale=1, size=n_samples)\n",
    "        acc_z = np.random.normal(loc=9.8, scale=0.2, size=n_samples)\n",
    "        gyro_x = np.random.normal(loc=0, scale=0.1, size=n_samples)\n",
    "        gyro_y = np.random.normal(loc=0, scale=0.1, size=n_samples)\n",
    "        gyro_z = np.random.normal(loc=150, scale=10, size=n_samples)\n",
    "\n",
    "    elif behavior == 3:  # Sudden Left Turn\n",
    "        acc_x = np.random.normal(loc=0, scale=0.5, size=n_samples)\n",
    "        acc_y = np.random.normal(loc=4, scale=1, size=n_samples)\n",
    "        acc_z = np.random.normal(loc=9.8, scale=0.2, size=n_samples)\n",
    "        gyro_x = np.random.normal(loc=0, scale=0.1, size=n_samples)\n",
    "        gyro_y = np.random.normal(loc=0, scale=0.1, size=n_samples)\n",
    "        gyro_z = np.random.normal(loc=-150, scale=10, size=n_samples)\n",
    "\n",
    "    elif behavior == 4:  # Sudden Brake\n",
    "        acc_x = np.random.normal(loc=-5, scale=1, size=n_samples)\n",
    "        acc_y = np.random.normal(loc=0, scale=0.5, size=n_samples)\n",
    "        acc_z = np.random.normal(loc=9.8, scale=0.2, size=n_samples)\n",
    "        gyro_x = np.random.normal(loc=0, scale=0.1, size=n_samples)\n",
    "        gyro_y = np.random.normal(loc=0, scale=0.1, size=n_samples)\n",
    "        gyro_z = np.random.normal(loc=0, scale=0.1, size=n_samples)\n",
    "    \n",
    "    data = pd.DataFrame({\n",
    "        'AccX': acc_x,\n",
    "        'AccY': acc_y,\n",
    "        'AccZ': acc_z,\n",
    "        'GyroX': gyro_x,\n",
    "        'GyroY': gyro_y,\n",
    "        'GyroZ': gyro_z,\n",
    "        'Target': behavior\n",
    "    })\n",
    "    return data\n",
    "\n",
    "# Generate data\n",
    "df_all = pd.concat([\n",
    "    generate_behavior_samples(1, 50),\n",
    "    generate_behavior_samples(2, 50),\n",
    "    generate_behavior_samples(3, 50),\n",
    "    generate_behavior_samples(4, 50)\n",
    "], ignore_index=True)\n",
    "\n",
    "# Shuffle dataset\n",
    "df_all = df_all.sample(frac=1, random_state=42).reset_index(drop=True)\n",
    "\n",
    "print(df_all.head())"
   ]
  },
  {
   "cell_type": "code",
   "execution_count": 4,
   "id": "1caf71ab",
   "metadata": {},
   "outputs": [
    {
     "name": "stdout",
     "output_type": "stream",
     "text": [
      " Feature set saved to 'driver123.csv'\n"
     ]
    }
   ],
   "source": [
    " # Final dataset\n",
    "    #feature_df = pd.DataFrame(features)\n",
    "df_all.to_csv(\"../data/driver123.csv\", index=False)\n",
    "print(\" Feature set saved to 'driver123.csv'\")"
   ]
  },
  {
   "cell_type": "code",
   "execution_count": null,
   "id": "dc371a8b",
   "metadata": {},
   "outputs": [],
   "source": []
  }
 ],
 "metadata": {
  "kernelspec": {
   "display_name": "Python 3 (ipykernel)",
   "language": "python",
   "name": "python3"
  },
  "language_info": {
   "codemirror_mode": {
    "name": "ipython",
    "version": 3
   },
   "file_extension": ".py",
   "mimetype": "text/x-python",
   "name": "python",
   "nbconvert_exporter": "python",
   "pygments_lexer": "ipython3",
   "version": "3.11.5"
  }
 },
 "nbformat": 4,
 "nbformat_minor": 5
}
